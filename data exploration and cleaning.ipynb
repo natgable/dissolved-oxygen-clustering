{
 "cells": [
  {
   "cell_type": "markdown",
   "metadata": {},
   "source": [
    "### EE 269 Final Project: Data Exploration\n",
    "\n",
    "Natalie Gable\n",
    "\n",
    "This notebook contains initial data exploration of the dissolved oxygen dataset"
   ]
  },
  {
   "cell_type": "code",
   "execution_count": 2,
   "metadata": {},
   "outputs": [],
   "source": [
    "import numpy as np\n",
    "import pandas as pd\n",
    "import matplotlib.pyplot as plt\n",
    "from sklearn.decomposition import PCA\n",
    "import pywt\n",
    "import csv\n",
    "import glob\n",
    "import os\n",
    "import glob\n",
    "import tqdm\n",
    "import datetime"
   ]
  },
  {
   "cell_type": "code",
   "execution_count": 3,
   "metadata": {},
   "outputs": [
    {
     "name": "stderr",
     "output_type": "stream",
     "text": [
      "100%|██████████| 25/25 [00:04<00:00,  5.32it/s]\n"
     ]
    }
   ],
   "source": [
    "# import in data\n",
    "dir_path_files = list(glob.glob(os.path.join(\"../../do2_data/\", \"*.csv\")))\n",
    "all_data = {}\n",
    "it = 0\n",
    "for csv_file in tqdm.tqdm(dir_path_files):\n",
    "    this_data = pd.read_csv(csv_file)\n",
    "    place_name = csv_file[csv_file.find(\"_data/\") + len(\"_data/\"):csv_file.find(\".csv\")]\n",
    "    all_data[place_name] = this_data\n",
    "\n",
    "places = all_data.keys()\n",
    "\n",
    "# clean up: make sure that there is dissolved oxygen column in dataset\n",
    "do_date_data = {}\n",
    "for place in list(places):\n",
    "    this_frame = all_data[place]\n",
    "    if \"do\" not in list(this_frame.columns):\n",
    "        all_data.pop(place)\n",
    "    else:\n",
    "        do_date_data[place] = this_frame[[\"date\", \"do\"]]"
   ]
  },
  {
   "cell_type": "code",
   "execution_count": 4,
   "metadata": {},
   "outputs": [],
   "source": [
    "# just extract out readings from 2018\n",
    "do_places = do_date_data.keys()\n",
    "do_2018 = {}\n",
    "\n",
    "for place in do_places:\n",
    "    datetime = pd.to_datetime(do_date_data[place]['date']).dt.year\n",
    "    all_2018 = do_date_data[place][datetime == 2018]\n",
    "    do_2018[place] = all_2018[[\"date\", \"do\"]]"
   ]
  },
  {
   "cell_type": "code",
   "execution_count": 5,
   "metadata": {},
   "outputs": [
    {
     "name": "stdout",
     "output_type": "stream",
     "text": [
      "Rio Vista at Decker Island  has  34761 entries\n",
      "San Mateo Bridge  has  35040 entries\n",
      "Mossdale  has  32277 entries\n",
      "Mallard Island  has  32310 entries\n",
      "Martinez  has  32288 entries\n",
      "Miner Slough At Hwy 84 Bridge  has  0 entries\n",
      "Grizzly Bay A Suisun Slough Nr Avon  has  33906 entries\n",
      "Delta Cross Channel  has  34613 entries\n",
      "Sacramento River at Freeport  has  35019 entries\n",
      "Sacramento River at Mallard Island  has  21855 entries\n",
      "Pond A8 Outlet  has  35040 entries\n",
      "Coyote Creek at Alviso Slough  has  35040 entries\n",
      "Newark Slough  has  35040 entries\n",
      "Cache Slough  has  32246 entries\n",
      "Liberty Cut  has  34992 entries\n",
      "Deep Water Shipping Channel  has  59195 entries\n",
      "Cache Slough at Liberty Island  has  34887 entries\n",
      "San Joaquin River at Jersey Point  has  32767 entries\n",
      "Mowry Slough  has  35040 entries\n",
      "Prisoner Point  has  32175 entries\n",
      "Alviso Slough  has  35040 entries\n",
      "Guadalupe Slough  has  35040 entries\n",
      "Dumbarton Bridge  has  35040 entries\n"
     ]
    }
   ],
   "source": [
    "# need to have the data all be the same length\n",
    "# need to go from dictionary of frames to one dataframe\n",
    "do_2018_df = pd.DataFrame()\n",
    "for place in do_places:\n",
    "    this_frame = do_2018[place]\n",
    "    this_frame[\"place\"] = str(place)\n",
    "    this_frame[\"day\"] = pd.to_datetime(this_frame['date']).dt.date\n",
    "    this_frame = this_frame.drop_duplicates()\n",
    "    do_2018_df = do_2018_df.append(this_frame, ignore_index=True)\n",
    "    print(place, \" has \", len(this_frame), \"entries\")"
   ]
  },
  {
   "cell_type": "code",
   "execution_count": 6,
   "metadata": {},
   "outputs": [],
   "source": [
    "do_2018_df = do_2018_df[[\"place\", \"day\", \"do\"]]\n",
    "do_2018_day = pd.DataFrame(do_2018_df.groupby([\"place\", \"day\"])[\"do\"].apply(list))"
   ]
  },
  {
   "cell_type": "code",
   "execution_count": 7,
   "metadata": {
    "scrolled": false
   },
   "outputs": [
    {
     "name": "stderr",
     "output_type": "stream",
     "text": [
      "/Users/nataliegable/opt/anaconda3/lib/python3.7/site-packages/ipykernel_launcher.py:22: RuntimeWarning: Mean of empty slice\n"
     ]
    }
   ],
   "source": [
    "# put everything into numpy format\n",
    "num_entries = 0\n",
    "for row in do_2018_day.iterrows():\n",
    "    do = row[1][0]\n",
    "    if len(do) == 96:\n",
    "        num_entries += 1\n",
    "\n",
    "data_X = np.zeros((num_entries, 96))\n",
    "data_y = np.zeros(num_entries)\n",
    "data_y_date = np.zeros(num_entries)\n",
    "it = 0\n",
    "for row in do_2018_day.iterrows():\n",
    "    place = row[0][0]\n",
    "    day = row[0][1]\n",
    "    do = row[1][0]\n",
    "    if len(do) == 96:\n",
    "        data_X[it, :] = np.array(do)\n",
    "        data_y[it] = list(do_places).index(place)\n",
    "        it += 1\n",
    "        \n",
    "# set nan values to 0\n",
    "row_means = np.nanmean(data_X, axis = 1)\n",
    "nan_idx = np.where(np.isnan(data_X))[0]\n",
    "data_X[np.isnan(data_X)] = row_means[nan_idx]\n",
    "data_X[np.isnan(data_X)] = 0"
   ]
  },
  {
   "cell_type": "code",
   "execution_count": 8,
   "metadata": {},
   "outputs": [],
   "source": [
    "# now we want to remove the rows with just nan (now 0) readings\n",
    "zero_sig_idx = np.zeros(548, dtype=int)\n",
    "it = 0\n",
    "for i in range(data_X.shape[0]):\n",
    "    if np.all(data_X[i,:] == np.zeros(96)):\n",
    "        zero_sig_idx[it] = i\n",
    "        it += 1\n",
    "cleaned_data_X = np.delete(data_X, zero_sig_idx, axis = 0)\n",
    "cleaned_data_y = np.delete(data_y, zero_sig_idx, axis = 0)"
   ]
  },
  {
   "cell_type": "code",
   "execution_count": 9,
   "metadata": {},
   "outputs": [
    {
     "name": "stdout",
     "output_type": "stream",
     "text": [
      "(6372, 96)\n",
      "(6920, 96)\n"
     ]
    }
   ],
   "source": [
    "print(cleaned_data_X.shape)\n",
    "print(data_X.shape)"
   ]
  },
  {
   "cell_type": "code",
   "execution_count": 14,
   "metadata": {},
   "outputs": [
    {
     "data": {
      "image/png": "[encoded data removed]",
      "text/plain": [
       "<Figure size 432x288 with 1 Axes>"
      ]
     },
     "metadata": {
      "needs_background": "light"
     },
     "output_type": "display_data"
    }
   ],
   "source": [
    "# now let's take a look at some examples in our data\n",
    "sample_idx = np.random.randint(0, 6372, 5)\n",
    "for i in sample_idx:\n",
    "    place = list(do_places)[int(cleaned_data_y[i])]\n",
    "    plt.plot(cleaned_data_X[i, :], label=place)\n",
    "\n",
    "plt.title(\"Examples of Signals\")\n",
    "plt.legend(loc='best')\n",
    "plt.show()"
   ]
  },
  {
   "cell_type": "code",
   "execution_count": 53,
   "metadata": {},
   "outputs": [],
   "source": [
    "np.save(\"data_X.npy\", cleaned_data_X)\n",
    "np.save(\"data_y.npy\", cleaned_data_y)"
   ]
  },
  {
   "cell_type": "code",
   "execution_count": null,
   "metadata": {},
   "outputs": [],
   "source": []
  }
 ],
 "metadata": {
  "kernelspec": {
   "display_name": "Python 3",
   "language": "python",
   "name": "python3"
  },
  "language_info": {
   "codemirror_mode": {
    "name": "ipython",
    "version": 3
   },
   "file_extension": ".py",
   "mimetype": "text/x-python",
   "name": "python",
   "nbconvert_exporter": "python",
   "pygments_lexer": "ipython3",
   "version": "3.7.6"
  }
 },
 "nbformat": 4,
 "nbformat_minor": 4
}
